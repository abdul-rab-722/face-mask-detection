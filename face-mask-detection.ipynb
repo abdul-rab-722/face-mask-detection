{
 "cells": [
  {
   "cell_type": "code",
   "execution_count": 1,
   "id": "85226f2a",
   "metadata": {},
   "outputs": [],
   "source": [
    "from tensorflow.keras.preprocessing.image import ImageDataGenerator\n",
    "\n",
    "from tensorflow.keras.models import Sequential\n",
    "from tensorflow.keras.layers import Conv2D, MaxPooling2D, Flatten, Dense, Dropout\n",
    "from tensorflow.keras.callbacks import ModelCheckpoint\n",
    "\n",
    "from PIL import Image"
   ]
  },
  {
   "cell_type": "markdown",
   "id": "aa38c2ff",
   "metadata": {},
   "source": [
    "### check interpreter"
   ]
  },
  {
   "cell_type": "code",
   "execution_count": 2,
   "id": "e53f85d6",
   "metadata": {},
   "outputs": [
    {
     "name": "stdout",
     "output_type": "stream",
     "text": [
      "D:\\Projects\\machine-learning-projects\\face-mask-detection\\venv\\Scripts\\python.exe\n"
     ]
    }
   ],
   "source": [
    "import sys\n",
    "print(sys.executable)"
   ]
  },
  {
   "cell_type": "markdown",
   "id": "49a87cfe",
   "metadata": {},
   "source": [
    "### This convolution network consists of two pairs of Conv and MaxPool layers to extract features from the dataset. Which is then followed by a Flatten and Dropout layer to convert the data in 1D and ensure overfitting.\n",
    "### And then two Dense layers for classification."
   ]
  },
  {
   "cell_type": "code",
   "execution_count": 3,
   "id": "edc1361f",
   "metadata": {},
   "outputs": [],
   "source": [
    "model = Sequential([\n",
    "    Conv2D(100, (3, 3), activation='relu', input_shape=(150, 150, 3)),\n",
    "    MaxPooling2D(2, 2),\n",
    "\n",
    "    Conv2D(100, (3, 3), activation='relu'),\n",
    "    MaxPooling2D(2, 2),\n",
    "\n",
    "    Flatten(),\n",
    "    Dropout(0.5),\n",
    "    Dense(50, activation='relu'),\n",
    "    Dense(2, activation='softmax')\n",
    "])\n",
    "model.compile(optimizer='adam', loss='binary_crossentropy', metrics=['acc'])"
   ]
  },
  {
   "cell_type": "markdown",
   "id": "9a99c6e9",
   "metadata": {},
   "source": [
    "### Image Data Generation/Augmentation:"
   ]
  },
  {
   "cell_type": "code",
   "execution_count": 4,
   "id": "4df5ee3a",
   "metadata": {},
   "outputs": [
    {
     "name": "stdout",
     "output_type": "stream",
     "text": [
      "Found 1315 images belonging to 2 classes.\n",
      "Found 194 images belonging to 2 classes.\n"
     ]
    }
   ],
   "source": [
    "TRAINING_DIR = \"dataset/train\"\n",
    "train_datagen = ImageDataGenerator(rescale=1.0 / 255,\n",
    "                                   rotation_range=40,\n",
    "                                   width_shift_range=0.2,\n",
    "                                   height_shift_range=0.2,\n",
    "                                   shear_range=0.2,\n",
    "                                   zoom_range=0.2,\n",
    "                                   horizontal_flip=True,\n",
    "                                   fill_mode='nearest')\n",
    "\n",
    "train_generator = train_datagen.flow_from_directory(TRAINING_DIR,\n",
    "                                                    batch_size=10,\n",
    "                                                    target_size=(150, 150))\n",
    "\n",
    "VALIDATION_DIR = \"dataset/test\"\n",
    "validation_datagen = ImageDataGenerator(rescale=1.0 / 255)\n",
    "\n",
    "validation_generator = validation_datagen.flow_from_directory(VALIDATION_DIR,\n",
    "                                                              batch_size=10,\n",
    "                                                              target_size=(150, 150))"
   ]
  },
  {
   "cell_type": "markdown",
   "id": "b8c76c06",
   "metadata": {},
   "source": [
    "### Initialize a callback checkpoint to keep saving best model after each epoch while training:"
   ]
  },
  {
   "cell_type": "code",
   "execution_count": 5,
   "id": "147a4692",
   "metadata": {},
   "outputs": [],
   "source": [
    "checkpoint = ModelCheckpoint('model-{epoch:02d}.hdf5', monitor='val_loss', verbose=1, save_best_only=True,\n",
    "                             mode='auto')"
   ]
  },
  {
   "cell_type": "markdown",
   "id": "f96a9e70",
   "metadata": {},
   "source": [
    "### Train the model:"
   ]
  },
  {
   "cell_type": "code",
   "execution_count": 6,
   "id": "bbace1e8",
   "metadata": {},
   "outputs": [
    {
     "name": "stdout",
     "output_type": "stream",
     "text": [
      "WARNING:tensorflow:From C:\\Users\\rab57\\AppData\\Local\\Temp\\ipykernel_15016\\369430025.py:4: Model.fit_generator (from tensorflow.python.keras.engine.training) is deprecated and will be removed in a future version.\n",
      "Instructions for updating:\n",
      "Please use Model.fit, which supports generators.\n",
      "Epoch 1/2\n",
      "132/132 [==============================] - ETA: 0s - loss: 0.6128 - acc: 0.6669\n",
      "Epoch 00001: val_loss improved from inf to 0.22685, saving model to model-01.hdf5\n",
      "132/132 [==============================] - 244s 2s/step - loss: 0.6128 - acc: 0.6669 - val_loss: 0.2268 - val_acc: 0.9485\n",
      "Epoch 2/2\n",
      "132/132 [==============================] - ETA: 0s - loss: 0.3076 - acc: 0.8852\n",
      "Epoch 00002: val_loss improved from 0.22685 to 0.16133, saving model to model-02.hdf5\n",
      "132/132 [==============================] - 403s 3s/step - loss: 0.3076 - acc: 0.8852 - val_loss: 0.1613 - val_acc: 0.9742\n"
     ]
    }
   ],
   "source": [
    "history = model.fit_generator(train_generator,\n",
    "                              epochs=2,\n",
    "                              validation_data=validation_generator,\n",
    "                              callbacks=[checkpoint])"
   ]
  },
  {
   "cell_type": "code",
   "execution_count": null,
   "id": "ddeefa68",
   "metadata": {},
   "outputs": [],
   "source": []
  }
 ],
 "metadata": {
  "kernelspec": {
   "display_name": "Python 3 (ipykernel)",
   "language": "python",
   "name": "python3"
  },
  "language_info": {
   "codemirror_mode": {
    "name": "ipython",
    "version": 3
   },
   "file_extension": ".py",
   "mimetype": "text/x-python",
   "name": "python",
   "nbconvert_exporter": "python",
   "pygments_lexer": "ipython3",
   "version": "3.7.0"
  }
 },
 "nbformat": 4,
 "nbformat_minor": 5
}
